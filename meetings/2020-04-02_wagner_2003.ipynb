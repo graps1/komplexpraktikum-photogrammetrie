{
 "cells": [
  {
   "cell_type": "markdown",
   "metadata": {},
   "source": [
    "## Der Laserstrahl und seine Interaktion mit der Erdoberfläche (cf. Wagner 2003)\n",
    "[Link](https://drive.google.com/drive/folders/1VgwUhkDOaZZZA309OB-IS88gZsQBUSsz). Relevante physikalische Grundlagen. Interessant: Interaktion des Laserstrahls mit der Erdoberfläche / Streuquerschnitt verschiedener Objekte und Impulsform.\n",
    "\n",
    "Für die Streuung an einer Fläche erhält man\n",
    "    $$\\sigma_{\\text{Fläche}} = \\pi \\rho_{\\text{Fläche}} R^2 \\beta_S^2 \\propto R^2.$$\n",
    "    \n",
    "Und für die Impulsform:\n",
    "        $$P_{E}(t) = \\int_{R_0}^{R_1} \\frac{D_E^2}{4\\pi R^4 \\beta_S^2} \\eta_{\\text{SYS}} \\eta_{\\text{ATM}} P_S\\left(t-\\frac{2R}{v_g}\\right)\\sigma(R) dR$$\n",
    "\n",
    "die vereinfacht werden kann, indem alle Konstanten zusammengefasst werden ($\\sigma(R) = \\sigma_{\\text{Fläche}}$):\n",
    "        $$P_E(t) = C \\int_{R_0}^{R_1} \\frac{1}{R^2}P_S\\left(t-\\frac{2R}{v_g}\\right) dR$$\n",
    "        \n",
    "Der Abfall des Signals scheint eher proportional zu $1/t$ statt $e^{-t}$ zu sein (wenn von konstanter Streufläche ausgegangen wird!) Siehe auch:"
   ]
  },
  {
   "cell_type": "code",
   "execution_count": 1,
   "metadata": {},
   "outputs": [],
   "source": [
    "import matplotlib.pyplot as plt\n",
    "import numpy as np\n",
    "\n",
    "from sympy import *\n",
    "from sympy.abc import tau\n",
    "from math import pi\n",
    "R,t,tprime,h,k,lR = symbols(\"R t tprime h k lR\")\n",
    "\n",
    "# constants\n",
    "# values taken from Wagner2003\n",
    "v = 3*10**8 # [m/s]\n",
    "pulselength = 10*10**-9 # [s]\n",
    "pulseenergy = 100*10**-6 # [J]\n",
    "D_E = 0.1 # [m]\n",
    "eta_SYS = 1\n",
    "eta_ATM = 0.9\n",
    "pulsepower = pulseenergy/pulselength\n",
    "beta_S = 10**-3 # [rad]\n",
    "rho_Flaeche = 0.01\n",
    "# calculate constant factor from example values\n",
    "C = rho_Flaeche*D_E**2/4*eta_SYS*eta_ATM\n",
    "\n",
    "\n",
    "# define sent impulse (rectangle w/ amplitude = pulsepower and signal length = pulselength)\n",
    "P_S = Piecewise((0, t<=0), (0, t>pulselength), (pulsepower,True))"
   ]
  },
  {
   "cell_type": "code",
   "execution_count": 2,
   "metadata": {},
   "outputs": [
    {
     "name": "stdout",
     "output_type": "stream",
     "text": [
      "sent signal\n"
     ]
    },
    {
     "data": {
      "text/plain": [
       "[<matplotlib.lines.Line2D at 0x7f32d4076390>]"
      ]
     },
     "execution_count": 2,
     "metadata": {},
     "output_type": "execute_result"
    },
    {
     "data": {
      "image/png": "[encoded data removed]",
      "text/plain": [
       "<Figure size 432x288 with 1 Axes>"
      ]
     },
     "metadata": {
      "needs_background": "light"
     },
     "output_type": "display_data"
    }
   ],
   "source": [
    "# visualize sent signal\n",
    "xs = np.linspace(-10**-8,6.8e-06,1000)\n",
    "yss = np.array(list(map(lambda val: P_S.subs(t,val), xs)))\n",
    "print(\"sent signal\")\n",
    "plt.plot(xs,yss)"
   ]
  },
  {
   "cell_type": "code",
   "execution_count": 3,
   "metadata": {},
   "outputs": [
    {
     "data": {
      "text/latex": [
       "$\\displaystyle \\begin{cases} 0 & \\text{for}\\: R < 150000000.0 t - 1.5 \\\\\\frac{10000.0}{150000000.0 t - 1.5} - \\frac{10000.0}{R} & \\text{for}\\: R \\leq 150000000 t \\\\\\frac{10000.0}{150000000.0 t - 1.5} - \\frac{6.66666666666667 \\cdot 10^{-5}}{t} & \\text{otherwise} \\end{cases}$"
      ],
      "text/plain": [
       "Piecewise((0, R < 150000000.0*t - 1.5), (10000.0/(150000000.0*t - 1.5) - 10000.0/R, R <= 150000000*t), (10000.0/(150000000.0*t - 1.5) - 6.66666666666667e-5/t, True))"
      ]
     },
     "execution_count": 3,
     "metadata": {},
     "output_type": "execute_result"
    }
   ],
   "source": [
    "R1 = 400 # [m]\n",
    "R2 = 500\n",
    "\n",
    "# define & solve indefinite integral\n",
    "P_E = integrate(1/R**2*P_S.subs(t, t - 2*R/v), R)\n",
    "\n",
    "# define & solve indefinite integral\n",
    "P_E1 = C*P_E\n",
    "# solve for lower and upper bound respectively\n",
    "result = P_E1.subs(R,R2) - P_E1.subs(R,R1)\n",
    "# print indefinite integral\n",
    "P_E"
   ]
  },
  {
   "cell_type": "code",
   "execution_count": 4,
   "metadata": {},
   "outputs": [
    {
     "name": "stdout",
     "output_type": "stream",
     "text": [
      "received signal\n"
     ]
    },
    {
     "data": {
      "text/plain": [
       "[<matplotlib.lines.Line2D at 0x7f32d37e5f28>]"
      ]
     },
     "execution_count": 4,
     "metadata": {},
     "output_type": "execute_result"
    },
    {
     "data": {
      "image/png": "[encoded data removed]",
      "text/plain": [
       "<Figure size 432x288 with 1 Axes>"
      ]
     },
     "metadata": {
      "needs_background": "light"
     },
     "output_type": "display_data"
    }
   ],
   "source": [
    "ysr = np.array(list(map(lambda val: result.subs(t,val), xs)))\n",
    "# visualize received signal\n",
    "print(\"received signal\")\n",
    "plt.plot(xs,ysr)"
   ]
  },
  {
   "cell_type": "markdown",
   "metadata": {},
   "source": [
    "Das Signal kommt deutlich geschwächt an: Stärke des ausgehenden Signals ~ $kW$, Stärke des eingehenden Signals ~ $\\mu W$. Vergl. dazu auch Wagner2003 (16). Wie verhält es sich bei mehreren Volumen?"
   ]
  },
  {
   "cell_type": "code",
   "execution_count": 23,
   "metadata": {},
   "outputs": [
    {
     "name": "stdout",
     "output_type": "stream",
     "text": [
      "received signal\n"
     ]
    },
    {
     "data": {
      "text/plain": [
       "[<matplotlib.lines.Line2D at 0x7f32d26fe518>]"
      ]
     },
     "execution_count": 23,
     "metadata": {},
     "output_type": "execute_result"
    },
    {
     "data": {
      "image/png": "[encoded data removed]",
      "text/plain": [
       "<Figure size 432x288 with 1 Axes>"
      ]
     },
     "metadata": {
      "needs_background": "light"
     },
     "output_type": "display_data"
    }
   ],
   "source": [
    "# calculate constant factor from example values\n",
    "C1 = C*0.01\n",
    "C2 = C\n",
    "C3 = C2*2\n",
    "\n",
    "R1 = 400\n",
    "R2 = 500\n",
    "R3 = oo\n",
    "\n",
    "# define sent impulse (rectangle w/ amplitude = pulsepower and signal length = pulselength)\n",
    "P_S = Piecewise((0, t<=0), (0, t>pulselength), (pulsepower,True))\n",
    "\n",
    "# define & solve indefinite integral\n",
    "P_E = integrate(1/R**2*P_S.subs(t, t - 2*R/v), R)\n",
    "P_E1 = C1*P_E\n",
    "P_E2 = C2*P_E\n",
    "P_E3 = C3*P_E\n",
    "\n",
    "# solve for lower and upper bound (R0/R1) respectively\n",
    "result = (  # (P_E1.subs(R,R1) - P_E1.subs(R,0)) # division by 0\n",
    "          + (P_E2.subs(R,R2) - P_E2.subs(R,R1))\n",
    "          + (P_E3.subs(R,R3) - P_E3.subs(R,R2)))\n",
    "\n",
    "# visualize received signal\n",
    "xs = np.linspace(0,6.8e-06,1000)\n",
    "ysr = np.array(list(map(lambda val: result.subs(t,val), xs)))\n",
    "yss = np.array(list(map(lambda val: P_S.subs(t,val), xs)))\n",
    "\n",
    "print(\"received signal\")\n",
    "plt.plot(xs,ysr)"
   ]
  },
  {
   "cell_type": "markdown",
   "metadata": {},
   "source": [
    "Eigentlich sollte der Abfall beim Boden doch viel höher sein. Das Problem ist vielleicht die Annahme, dass immer $\\sigma(R) = R^2$ gilt. Abhängig von den durchlaufenen Volumen sollte die Streuung doch sicher abnehmen, oder nicht?\n",
    "\n",
    "## Integrales Dämpfungsmodell (cf. Richter 2018) \n",
    "Idee: Pulsintensität wird kontinuierlich abgeschwächt, indem schrittweise mit einem bestimmten Faktor multipliziert wird. Leicht andere Idee: man kann die Ziele in \"Schichten\" aufteilen. Beispielsweise in Luft ($i=1$), Wasser ($i=2$) und Boden ($i=3$). Jede dieser Schichten hat eine gewisse Durchlässigkeit, die einen Teil des Strahls eliminieren. Außerdem beginnt jede Schicht ab einer bestimmten Reichweite $R_{i-1}$ und läuft bis zu dem Beginn der nächsten Schicht $R_i$; die letzte Schicht läuft bis $R_m=\\infty$. Die Erste beginnt bei $R_0=0$.\n",
    "\n",
    "In jeder Schicht gibt es einen exponentiellen Abfall des Lichtanteils $p$, der diese Schicht verlässt. Nimmt man an, dass es nur eine Schicht gibt, gilt $p(R) = \\exp(-k R)$. $R$ ist dabei die zurückgelegte Distanz des Lichts in dieser Schicht und $k$ ein Faktor abhängig von der Zusammensetzung der Schicht, der angibt, wie stark dieser exponentielle Abfall ist. Bei mehreren Schichten durchläuft der Lichtstrahl eine Schicht nach der anderen, womit sich\n",
    "\n",
    "$$p(R) = \\left( \\prod_{i=1}^{n-1} \\exp(-k_i(R_i - R_{i-1}) \\right) \\exp(-k_n(R - R_{n-1}))$$\n",
    "\n",
    "ergibt. $n$ ist dabei der Index der Schicht, für die $R \\in [R_n, R_{n-1}]$ gilt.\n",
    "\n",
    "Beispielsweise können wir $k_1=0.0001, k_2=0.003, k_3=2$ mit $R_1=1000,R_2=1100,R_3=\\infty$ annehmen. D.h. Luft geht von Anfang bis 1000m, dann 100m Wasser und dann Boden (für \"immer\")."
   ]
  },
  {
   "cell_type": "code",
   "execution_count": 24,
   "metadata": {},
   "outputs": [
    {
     "data": {
      "text/plain": [
       "[<matplotlib.lines.Line2D at 0x7f32d26df7b8>]"
      ]
     },
     "execution_count": 24,
     "metadata": {},
     "output_type": "execute_result"
    },
    {
     "data": {
      "image/png": "[encoded data removed]",
      "text/plain": [
       "<Figure size 432x288 with 1 Axes>"
      ]
     },
     "metadata": {
      "needs_background": "light"
     },
     "output_type": "display_data"
    }
   ],
   "source": [
    "from math import inf, e\n",
    "\n",
    "# example: three layers; air, water, ground.\n",
    "layers = [(0.0001,1000), (0.003,1100), (2,inf)] # (ki, Ri)\n",
    "\n",
    "def p(R):\n",
    "    ret, Rlast = 1, 0\n",
    "    for ki,Ri in layers:\n",
    "        if Ri > R:\n",
    "            return ret*e**(-ki*(R-Rlast))\n",
    "        else:\n",
    "            ret *= e**(-ki*(Ri-Rlast))\n",
    "            Rlast = Ri\n",
    "\n",
    "xs = np.arange(2000)\n",
    "ps = list(map(p, xs))\n",
    "\n",
    "import matplotlib.pyplot as plt\n",
    "plt.plot(xs,ps)"
   ]
  },
  {
   "cell_type": "markdown",
   "metadata": {},
   "source": [
    "Zuerst können annehmen, dass $\\sigma(R) = \\sigma_{\\text{Fläche}} p(R)$ gilt, und eine Verallgemeinerung von $P_E(t)$ auf mehrere Schichten betrachten:\n",
    "\n",
    "$$P_E(t) = \\sum_{i=1}^m C_i \\int_{R_{i-1}}^{R_i} \\frac{1}{R^2}P_S\\left(t-\\frac{2R}{v_g}\\right) p(R) dR$$\n",
    "\n",
    "einsetzen von $p(R)$ ergibt\n",
    "\n",
    "$$P_E(t) = \\sum_{i=1}^m C_i \\int_{R_{i-1}}^{R_i} \\frac{1}{R^2}P_S\\left(t-\\frac{2R}{v_g}\\right) \\left( \\prod_{j=1}^{i-1} \\exp(-k_j(R_j - R_{j-1}) \\right) \\exp(-k_i (R - R_{i-1})) dR,$$\n",
    "\n",
    "da $R \\in [R_{i-1}, R_i]$ gilt. Ausklammern von konstanten Termen ergibt dann\n",
    "\n",
    "$$P_E(t) = \\sum_{i=1}^m C_i' \\int_{R_{i-1}}^{R_i} \\frac{1}{R^2}P_S\\left(t-\\frac{2R}{v_g}\\right) \\exp(-k_i (R - R_{i-1})) dR,$$"
   ]
  },
  {
   "cell_type": "code",
   "execution_count": null,
   "metadata": {},
   "outputs": [],
   "source": [
    "# calculate constant factor from example values. ignore air.\n",
    "R0 = 400\n",
    "C1, k1, R1 = C, 0.0003, 500 \n",
    "C2, k2, R2 = C2*2, 0.002, oo\n",
    "\n",
    "# define & solve indefinite integral\n",
    "integral = integrate(1/R**2*P_S.subs(t, t - 2*R/v)*exp(-k*(R - lR)), R)\n",
    "P_E = C1*integral.subs(k,k1).subs(lR, R1)\n",
    "\n",
    "\n",
    "\n",
    "# define sent impulse (rectangle w/ amplitude = pulsepower and signal length = pulselength)\n",
    "P_S = Piecewise((0, t<=0), (0, t>pulselength), (pulsepower,True))\n",
    "\n",
    "P_E1 = C1*P_E\n",
    "P_E2 = C2*P_E\n",
    "P_E3 = C3*P_E\n",
    "\n",
    "# solve for lower and upper bound (R0/R1) respectively\n",
    "result = (  # (P_E1.subs(R,R1) - P_E1.subs(R,0)) # division by 0\n",
    "          + (P_E2.subs(R,R2) - P_E2.subs(R,R1))\n",
    "          + (P_E3.subs(R,R3) - P_E3.subs(R,R2)))\n",
    "\n",
    "# visualize received signal\n",
    "xs = np.linspace(0,6.8e-06,1000)\n",
    "ysr = np.array(list(map(lambda val: result.subs(t,val), xs)))\n",
    "yss = np.array(list(map(lambda val: P_S.subs(t,val), xs)))\n",
    "\n",
    "print(\"received signal\")\n",
    "plt.plot(xs,ysr)"
   ]
  }
 ],
 "metadata": {
  "kernelspec": {
   "display_name": "Python 3",
   "language": "python",
   "name": "python3"
  },
  "language_info": {
   "codemirror_mode": {
    "name": "ipython",
    "version": 3
   },
   "file_extension": ".py",
   "mimetype": "text/x-python",
   "name": "python",
   "nbconvert_exporter": "python",
   "pygments_lexer": "ipython3",
   "version": "3.6.9"
  }
 },
 "nbformat": 4,
 "nbformat_minor": 4
}
