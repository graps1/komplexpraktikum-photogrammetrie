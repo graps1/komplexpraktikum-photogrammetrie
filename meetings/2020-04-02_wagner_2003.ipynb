{
 "cells": [
  {
   "cell_type": "markdown",
   "metadata": {},
   "source": [
    "## Wagner 2003 - der Laserstrahl und seine Interaktion mit der Erdoberfläche\n",
    "[Link](https://drive.google.com/drive/folders/1VgwUhkDOaZZZA309OB-IS88gZsQBUSsz). Relevante physikalische Grundlagen. Interessant: Interaktion des Laserstrahls mit der Erdoberfläche / Streuquerschnitt verschiedener Objekte und Impulsform.\n",
    "\n",
    "Für die Streuung an einer Fläche erhält man\n",
    "    $$\\sigma_{\\text{Fläche}} = \\pi \\rho_{\\text{Fläche}} R^2 \\beta_S^2 \\propto R^2.$$\n",
    "    \n",
    "Und für die Impulsform:\n",
    "        $$P_E(t) = \\int_{R_0}^{R_1} \\frac{D_E^2}{4\\pi R^4 \\beta_S^2} \\eta_{\\text{SYS}} \\eta_{\\text{ATM}} P_S\\left(t-\\frac{2R}{v_g}\\right)\\sigma(R) dR$$\n",
    "\n",
    "die vereinfacht werden kann, indem alle Konstanten zusammengefasst werden ($\\sigma_{\\text{Fläche}} = \\sigma(R)$):\n",
    "        $$P_E(t) = C \\int_{R_0}^{R_1} \\frac{1}{R^2}P_S\\left(t-\\frac{2R}{v_g}\\right) dR$$\n",
    "        \n",
    "Der Abfall des Signals scheint eher proportional zu $1/t$ statt $e^{-t}$ zu sein (?) Siehe auch:"
   ]
  },
  {
   "cell_type": "code",
   "execution_count": 183,
   "metadata": {},
   "outputs": [
    {
     "data": {
      "text/latex": [
       "$\\displaystyle 2.25 \\cdot 10^{-5} \\left(\\begin{cases} 0 & \\text{for}\\: R < 150000000.0 t - 1.5 \\\\\\frac{10000.0}{150000000.0 t - 1.5} - \\frac{10000.0}{R} & \\text{for}\\: R \\leq 150000000 t \\\\\\frac{10000.0}{150000000.0 t - 1.5} - \\frac{6.66666666666667 \\cdot 10^{-5}}{t} & \\text{otherwise} \\end{cases}\\right)$"
      ],
      "text/plain": [
       "2.25e-5*Piecewise((0, R < 150000000.0*t - 1.5), (10000.0/(150000000.0*t - 1.5) - 10000.0/R, R <= 150000000*t), (10000.0/(150000000.0*t - 1.5) - 6.66666666666667e-5/t, True))"
      ]
     },
     "execution_count": 183,
     "metadata": {},
     "output_type": "execute_result"
    }
   ],
   "source": [
    "import matplotlib.pyplot as plt\n",
    "import numpy as np\n",
    "\n",
    "from sympy import *\n",
    "from sympy.abc import tau\n",
    "from math import pi\n",
    "R,t,tprime,h = symbols(\"R t tprime h\")\n",
    "\n",
    "# constants\n",
    "# values taken from Wagner2003\n",
    "v = 3*10**8 # [m/s]\n",
    "R0 = 400 # [m]\n",
    "R1 = 500\n",
    "pulselength = 10*10**-9 # [s]\n",
    "pulseenergy = 100*10**-6 # [J]\n",
    "D_E = 0.1 # [m]\n",
    "eta_SYS = 1\n",
    "eta_ATM = 0.9\n",
    "pulsepower = pulseenergy/pulselength\n",
    "beta_S = 10**-3 # [rad]\n",
    "rho_Flaeche = 0.01\n",
    "# calculate constant factor from example values\n",
    "C = rho_Flaeche*D_E**2/4*eta_SYS*eta_ATM\n",
    "\n",
    "# define sent impulse (rectangle w/ amplitude = pulsepower and signal length = pulselength)\n",
    "P_S = Piecewise((0, t<=0), (0, t>pulselength), (pulsepower,True))\n",
    "# define & solve indefinite integral\n",
    "P_E = C*integrate(1/R**2*P_S.subs(t, t - 2*R/v), R)\n",
    "# solve for lower and upper bound (R0/R1) respectively\n",
    "result = P_E.subs(R,R1) - P_E.subs(R,R0)\n",
    "# print indefinite integral\n",
    "P_E"
   ]
  },
  {
   "cell_type": "code",
   "execution_count": 180,
   "metadata": {},
   "outputs": [
    {
     "name": "stdout",
     "output_type": "stream",
     "text": [
      "sent signal\n"
     ]
    },
    {
     "data": {
      "text/plain": [
       "[<matplotlib.lines.Line2D at 0x7f4e2fa9ff60>]"
      ]
     },
     "execution_count": 180,
     "metadata": {},
     "output_type": "execute_result"
    },
    {
     "data": {
      "image/png": "[encoded data removed]",
      "text/plain": [
       "<Figure size 432x288 with 1 Axes>"
      ]
     },
     "metadata": {
      "needs_background": "light"
     },
     "output_type": "display_data"
    }
   ],
   "source": [
    "# visualize sent signal\n",
    "xs = np.linspace(-10**-8,6.8e-06,1000)\n",
    "ysr = np.array(list(map(lambda val: result.subs(t,val), xs)))\n",
    "yss = np.array(list(map(lambda val: P_S.subs(t,val), xs)))\n",
    "print(\"sent signal\")\n",
    "plt.plot(xs,yss)"
   ]
  },
  {
   "cell_type": "code",
   "execution_count": 181,
   "metadata": {},
   "outputs": [
    {
     "name": "stdout",
     "output_type": "stream",
     "text": [
      "received signal\n"
     ]
    },
    {
     "data": {
      "text/plain": [
       "[<matplotlib.lines.Line2D at 0x7f4e2fa7f780>]"
      ]
     },
     "execution_count": 181,
     "metadata": {},
     "output_type": "execute_result"
    },
    {
     "data": {
      "image/png": "[encoded data removed]",
      "text/plain": [
       "<Figure size 432x288 with 1 Axes>"
      ]
     },
     "metadata": {
      "needs_background": "light"
     },
     "output_type": "display_data"
    }
   ],
   "source": [
    "# visualize received signal\n",
    "print(\"received signal\")\n",
    "plt.plot(xs,ysr)"
   ]
  },
  {
   "cell_type": "markdown",
   "metadata": {},
   "source": [
    "Das Signal kommt deutlich geschwächt an: Stärke des ausgehenden Signals ~ $kW$, Stärke des eingehenden Signals ~ $\\mu W$. Vergl. dazu auch Wagner2003 (16). Wie verhält es sich bei mehreren Volumen?"
   ]
  }
 ],
 "metadata": {
  "kernelspec": {
   "display_name": "Python 3",
   "language": "python",
   "name": "python3"
  },
  "language_info": {
   "codemirror_mode": {
    "name": "ipython",
    "version": 3
   },
   "file_extension": ".py",
   "mimetype": "text/x-python",
   "name": "python",
   "nbconvert_exporter": "python",
   "pygments_lexer": "ipython3",
   "version": "3.6.9"
  }
 },
 "nbformat": 4,
 "nbformat_minor": 4
}
