{
 "cells": [
  {
   "cell_type": "markdown",
   "metadata": {},
   "source": [
    "## Supervised Machine Learning (kleine Einführung)\n",
    "* Supervised Machine Learning = Lernen von Funktionen durch Beispiele.\n",
    "\n",
    "---\n",
    "\n",
    "### Wichtige Komponenten \n",
    "* eine Menge an Eingabe/Ausgabe-Beispielpaaren: $$(x_1,y_1),\\dots,(x_s,y_s),\\quad x_i \\in \\mathbf{R}^n, y_i \\in \\mathbf{R}^m,\\quad \\forall i=1,\\dots,s.$$ \n",
    "* eine parametrisierbare Funktion ($a$ sind die Parameter, $x$ und $y$ die Eingabe und Ausgabe): $$f: \\mathbf{R}^n \\times \\mathbf{R}^p \\mapsto \\mathbf{R}^m;\\quad f(x,a) = y.$$\n",
    "* und eine Fehlerfunktion, die bewertet, wie \"gut\" die Parameter $a$ einer Funktion $f$ sind: $$e_f: \\mathbf{R}^p \\mapsto \\mathbf{R};\\quad e_f(a).$$\n",
    "\n",
    "### Grundlegende Idee\n",
    "* Es soll ein Parametervektor $a$ mit Hilfe der Beispielpaare gelernt werden, der eine \"Vorhersage\" möglich macht: $$y_1 \\approx f(x_1,a),\\dots,y_s \\approx f(x_s,a).$$\n",
    "* Die Fehlerfunktion bewertet wie gut oder schlecht die Parameter sind, indem z.B. über die quadratische Abweichung der Vorhersage von dem eigentlichen Ergebnis summiert wird: $$e_f(a) = \\sum_{i=1}^{s} (y_i - f(x_i,a))^2.$$\n",
    "* Ein optimaler Parametervektor wird gefunden, indem die Fehlerfunktion minimiert wird: $$\\arg\\min_{a\\in\\mathbf{R}^p} e_f(a).$$\n",
    "\n",
    "### Einführendes Beispiel"
   ]
  },
  {
   "cell_type": "code",
   "execution_count": 4,
   "metadata": {},
   "outputs": [],
   "source": [
    "import numpy as np\n",
    "import matplotlib.pyplot as plt\n",
    "from scipy.optimize import minimize\n",
    "\n",
    "# define the \"real\" function and generate a set of samples\n",
    "def f_real(x):\n",
    "    return 2*x**2 + x - 1 + np.random.normal(0,2,size=samplecount)\n",
    "\n",
    "samplecount = 50 # more samples -> usually better approximation\n",
    "xs_sample = np.linspace(-5,5,samplecount) # generate input values \n",
    "ys_sample = f_real(xs_sample) # and corresponding output values\n",
    "samples = list(zip(xs_sample, ys_sample))"
   ]
  },
  {
   "cell_type": "markdown",
   "metadata": {},
   "source": [
    "* Gegeben ist eine Folge an Paaren von (fehlerbehafteten) Ein- und Ausgaben `xs_sample` und `ys_sample`.\n",
    "* In diesem Fall werden die Ausgaben durch eine einfache quadratische Funktion `f_real` generiert: $$f_{\\text{real}}(x) = 2x^2 + x - 1.$$\n",
    "* In den meisten Fällen ist die \"echte\" Funktion nicht bekannt (oder nur schwer zu berechnen)."
   ]
  },
  {
   "cell_type": "code",
   "execution_count": 5,
   "metadata": {},
   "outputs": [],
   "source": [
    "# define some possible predictors\n",
    "def f1(x,a):\n",
    "    # this one is just a linear function\n",
    "    return x*a[0] + a[1]\n",
    "\n",
    "def f2(x,a):\n",
    "    # this one is quadratic\n",
    "    return x**2*a[0] + x*a[1] + a[2]\n",
    "\n",
    "# define a possible error-function\n",
    "def e(a):\n",
    "    # this one sums over the squared error\n",
    "    global samples, f\n",
    "    return sum([(y-f(x,a))**2 for x,y in samples])"
   ]
  },
  {
   "cell_type": "markdown",
   "metadata": {},
   "source": [
    "* $f_{\\text{real}}$ kann durch verschiedene Modelle approximiert werden: bspw. durch eine lineare Funktion $$f_1(x,a) = a_1 x + a_2$$ oder durch eine quadratische Funktion $$f_2(x,a) = a_1 x^2 + a_2 x + a_3.$$\n",
    "* Die Fehlerfunktion $e$ summiert dabei den quadrierten Fehler zwischen Vorhersage ($f(x_i,a)$) und Messung ($y_i$)."
   ]
  },
  {
   "cell_type": "code",
   "execution_count": 6,
   "metadata": {},
   "outputs": [
    {
     "data": {
      "image/png": "[encoded data removed]",
      "text/plain": [
       "<Figure size 432x288 with 1 Axes>"
      ]
     },
     "metadata": {},
     "output_type": "display_data"
    },
    {
     "data": {
      "image/png": "[encoded data removed]",
      "text/plain": [
       "<Figure size 432x288 with 1 Axes>"
      ]
     },
     "metadata": {},
     "output_type": "display_data"
    }
   ],
   "source": [
    "# derive optimal parameter vector by minimizing the error function\n",
    "# we use a squared error function (e1) together w/ the linear predictor function (f1)\n",
    "a0 = (1,1) # initial parameter vector (can be arbitrary)\n",
    "f = f1\n",
    "a_optimal = minimize(e, a0).x # calculate optimal parameter vector. \"minimize\" is a function from scipy.\n",
    "plt.plot(xs_sample, f(xs_sample, a_optimal)) # plot function w/ optimal parameters\n",
    "plt.plot(xs_sample,ys_sample,\"rx\")\n",
    "plt.show()\n",
    "\n",
    "# but one could also use a quadratic predictor function f2 (obviously better):\n",
    "a0 = (1,1,1)\n",
    "f = f2\n",
    "a_optimal = minimize(e, a0).x\n",
    "plt.plot(xs_sample, f(xs_sample, a_optimal))\n",
    "plt.plot(xs_sample,ys_sample,\"rx\")\n",
    "plt.show()"
   ]
  },
  {
   "cell_type": "markdown",
   "metadata": {},
   "source": [
    "* `minimize` ist eine Funktion von scikit-learn, die das minimieren von nichtlinearen Funktionen unterstützt. I.d.R. wird dazu das Gradienten- oder Newtonverfahren verwendet.\n",
    "* Wir können den Plots entnehmen, dass unterschiedliche Modelle unterschiedlich gut approximieren können. Eine lineare Regression macht in diesem Fall bspw. weniger Sinn als eine quadratische.\n",
    "* Auch die Wahl der Fehlerfunktion spielt eine Rolle: so sind quadratische Fehlerfunktionen z.B. anfälliger für \"Outlier\" als absolute."
   ]
  },
  {
   "cell_type": "markdown",
   "metadata": {},
   "source": [
    "---\n",
    "## Künstliche Neuronale Netzwerke (KNN)\n",
    "* Welches Modell repräsentiert die Daten am besten? Wie kann das Modell so generisch wie möglich gewählt werden und trotzdem \"gut\" abschneiden?\n",
    "* Idee: viele Parameter + stark nichtlineare Funktionen, die viel Freiraum für vielfältige Approximierung lassen.\n",
    "* Die einfachste Form eines KNN (ein vollständig vernetztes Netzwerk, aka Fully-Connected-Network) besteht aus \n",
    "    * Mindestens einem *Layer*; einer Kombination aus einer nichtlinearen \"Aktivierungsfunktion\" und einer Linearkombination der Eingabedaten $$v_{i+1} = g_i(A_i v_i + b_i),\\quad v_0 = x,\\quad y = v_n$$\n",
    "    * Layer können beliebig gestaffelt werden (siehe Bild für Beispiel).\n",
    "    * Das erste und letzte Layer werden Input- bzw. Output-Layer genannt und korrespondieren mit den Ein- bzw. Ausgabedaten.\n",
    "![bild](./pics/knn_simple.jpg?s=10)"
   ]
  },
  {
   "cell_type": "code",
   "execution_count": null,
   "metadata": {},
   "outputs": [],
   "source": []
  }
 ],
 "metadata": {
  "kernelspec": {
   "display_name": "Python 3 (Spyder)",
   "language": "python3",
   "name": "python3"
  },
  "language_info": {
   "codemirror_mode": {
    "name": "ipython",
    "version": 3
   },
   "file_extension": ".py",
   "mimetype": "text/x-python",
   "name": "python",
   "nbconvert_exporter": "python",
   "pygments_lexer": "ipython3",
   "version": "3.7.4"
  }
 },
 "nbformat": 4,
 "nbformat_minor": 4
}
